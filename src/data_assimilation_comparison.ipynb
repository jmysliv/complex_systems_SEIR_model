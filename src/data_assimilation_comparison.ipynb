{
 "cells": [
  {
   "cell_type": "code",
   "execution_count": 1,
   "metadata": {},
   "outputs": [],
   "source": [
    "from seidr import SEIDR\n",
    "from data_assimilation import OUTPUT_DIRECTORY_PATH, assimilate, apply_noise"
   ]
  },
  {
   "cell_type": "code",
   "execution_count": 2,
   "metadata": {},
   "outputs": [],
   "source": [
    "import pandas as pd\n",
    "import numpy as np"
   ]
  },
  {
   "cell_type": "code",
   "execution_count": 30,
   "metadata": {},
   "outputs": [],
   "source": [
    "surogate = SEIDR(name=\"surogate\",\n",
    "                beta_values = [0.76,0.51, 0.26],\n",
    "                gamma= 0.11,\n",
    "                alpha=0.011,\n",
    "                delta = 0.011\n",
    "    ) \n",
    "surogate.calculate()\n",
    "surogate.save_results()\n",
    "surogate.plot()"
   ]
  },
  {
   "cell_type": "code",
   "execution_count": 31,
   "metadata": {},
   "outputs": [],
   "source": [
    "\n",
    "baseline = pd.read_csv(f'{OUTPUT_DIRECTORY_PATH}/baseline.csv')\n",
    "surogate = pd.read_csv(f'{OUTPUT_DIRECTORY_PATH}/surogate.csv')\n"
   ]
  },
  {
   "cell_type": "code",
   "execution_count": 36,
   "metadata": {},
   "outputs": [],
   "source": [
    "def compare_results(SEIDR_real, SEIDR_pred):\n",
    "    distance = 0.0\n",
    "    for val_real, val_pred in zip(SEIDR_real, SEIDR_pred):\n",
    "        distance+=np.linalg.norm(val_real-val_pred)/val_real.shape[0]\n",
    "    return distance"
   ]
  },
  {
   "cell_type": "code",
   "execution_count": 37,
   "metadata": {},
   "outputs": [],
   "source": [
    "def compare_var_matrices(baseline, surogate, baseline_vars, surogate_vars, deviation):\n",
    "    values = {}\n",
    "    noisy_baseline = apply_noise(baseline, 50)\n",
    "    for baseline_var in baseline_vars:\n",
    "        for surogate_var in surogate_vars:\n",
    "            SEIDR_pred = assimilate(noisy_baseline, surogate, baseline_var, surogate_var)\n",
    "            values[(baseline_var, surogate_var)] = compare_results(tuple(baseline[column].to_numpy() for column in baseline.columns)[1::], SEIDR_pred)\n",
    "    return values"
   ]
  },
  {
   "cell_type": "code",
   "execution_count": 38,
   "metadata": {},
   "outputs": [],
   "source": [
    "comparisons = compare_var_matrices(baseline, surogate, [0.5, 1,2, 4], [1,10,100,500, 1000], 100)"
   ]
  },
  {
   "cell_type": "code",
   "execution_count": 39,
   "metadata": {},
   "outputs": [
    {
     "data": {
      "text/html": [
       "<div>\n",
       "<style scoped>\n",
       "    .dataframe tbody tr th:only-of-type {\n",
       "        vertical-align: middle;\n",
       "    }\n",
       "\n",
       "    .dataframe tbody tr th {\n",
       "        vertical-align: top;\n",
       "    }\n",
       "\n",
       "    .dataframe thead th {\n",
       "        text-align: right;\n",
       "    }\n",
       "</style>\n",
       "<table border=\"1\" class=\"dataframe\">\n",
       "  <thead>\n",
       "    <tr style=\"text-align: right;\">\n",
       "      <th></th>\n",
       "      <th>1</th>\n",
       "      <th>10</th>\n",
       "      <th>100</th>\n",
       "      <th>500</th>\n",
       "      <th>1000</th>\n",
       "    </tr>\n",
       "  </thead>\n",
       "  <tbody>\n",
       "    <tr>\n",
       "      <th>0.5</th>\n",
       "      <td>13.477261</td>\n",
       "      <td>11.802378</td>\n",
       "      <td>12.203853</td>\n",
       "      <td>12.251665</td>\n",
       "      <td>12.257789</td>\n",
       "    </tr>\n",
       "    <tr>\n",
       "      <th>1.0</th>\n",
       "      <td>16.240875</td>\n",
       "      <td>11.608778</td>\n",
       "      <td>12.147008</td>\n",
       "      <td>12.239516</td>\n",
       "      <td>12.251665</td>\n",
       "    </tr>\n",
       "    <tr>\n",
       "      <th>2.0</th>\n",
       "      <td>19.629305</td>\n",
       "      <td>11.747083</td>\n",
       "      <td>12.042854</td>\n",
       "      <td>12.215610</td>\n",
       "      <td>12.239516</td>\n",
       "    </tr>\n",
       "    <tr>\n",
       "      <th>4.0</th>\n",
       "      <td>22.724474</td>\n",
       "      <td>12.843426</td>\n",
       "      <td>11.871048</td>\n",
       "      <td>12.169359</td>\n",
       "      <td>12.215610</td>\n",
       "    </tr>\n",
       "  </tbody>\n",
       "</table>\n",
       "</div>"
      ],
      "text/plain": [
       "          1          10         100        500        1000\n",
       "0.5  13.477261  11.802378  12.203853  12.251665  12.257789\n",
       "1.0  16.240875  11.608778  12.147008  12.239516  12.251665\n",
       "2.0  19.629305  11.747083  12.042854  12.215610  12.239516\n",
       "4.0  22.724474  12.843426  11.871048  12.169359  12.215610"
      ]
     },
     "execution_count": 39,
     "metadata": {},
     "output_type": "execute_result"
    }
   ],
   "source": [
    "ser = pd.Series(list(comparisons.values()),\n",
    "                  index=pd.MultiIndex.from_tuples(comparisons.keys()))\n",
    "df = ser.unstack().fillna(0)\n",
    "df"
   ]
  },
  {
   "cell_type": "code",
   "execution_count": 48,
   "metadata": {},
   "outputs": [],
   "source": [
    "sample_nums = [400*i for i in range(1,21)]"
   ]
  },
  {
   "cell_type": "code",
   "execution_count": 49,
   "metadata": {},
   "outputs": [
    {
     "data": {
      "text/plain": [
       "[441.9887034439605,\n",
       " 312.4736968394757,\n",
       " 255.27145773209338,\n",
       " 221.06802000233145,\n",
       " 197.66964104479547,\n",
       " 180.51416889818495,\n",
       " 167.09437598342876,\n",
       " 156.29843129289324,\n",
       " 147.30175462163749,\n",
       " 139.77923063502107,\n",
       " 133.27508337095105,\n",
       " 127.6097616056386,\n",
       " 122.60859223230075,\n",
       " 118.13649052770083,\n",
       " 114.12330454306276,\n",
       " 110.5237485639797,\n",
       " 107.21484842822491,\n",
       " 104.16957012541631,\n",
       " 101.43660777929473,\n",
       " 98.82281712532998]"
      ]
     },
     "execution_count": 49,
     "metadata": {},
     "output_type": "execute_result"
    }
   ],
   "source": [
    "results = []\n",
    "for sample_num in sample_nums:\n",
    "    sample_frequency = 400/sample_num\n",
    "    baseline = SEIDR(f\"baseline{sample_num}\",sampling_frequency=sample_frequency)\n",
    "    surogate = SEIDR(f\"surogate{sample_num}\",\n",
    "                beta_values = [0.76,0.51, 0.26],\n",
    "                gamma= 0.11,\n",
    "                alpha=0.011,\n",
    "                delta = 0.011,\n",
    "                sampling_frequency=sample_frequency\n",
    "    )\n",
    "    baseline.calculate()\n",
    "    surogate.calculate()\n",
    "\n",
    "    baseline = baseline.to_pandas()\n",
    "    surogate = surogate.to_pandas()\n",
    "\n",
    "    noisy_baseline = apply_noise(baseline, 50)\n",
    "    SEIDR_pred = assimilate(noisy_baseline, surogate, 1, 10)\n",
    "    results.append(compare_results(tuple(baseline[column].to_numpy() for column in baseline.columns)[1::], SEIDR_pred))\n",
    "    \n",
    "results"
   ]
  },
  {
   "cell_type": "code",
   "execution_count": null,
   "metadata": {},
   "outputs": [],
   "source": [
    "import matplotlib.pyplot as plt\n",
    "\n",
    "t = list(range(1,21))\n",
    "\n",
    "\n",
    "fig, ax = plt.subplots()\n",
    "ax.plot(t, results)\n",
    "\n",
    "ax.set(xlabel='time (s)', ylabel='voltage (mV)',\n",
    "       title='About as simple as it gets, folks')\n",
    "ax.grid()"
   ]
  }
 ],
 "metadata": {
  "kernelspec": {
   "display_name": "Python 3.8.12 ('venv': venv)",
   "language": "python",
   "name": "python3"
  },
  "language_info": {
   "codemirror_mode": {
    "name": "ipython",
    "version": 3
   },
   "file_extension": ".py",
   "mimetype": "text/x-python",
   "name": "python",
   "nbconvert_exporter": "python",
   "pygments_lexer": "ipython3",
   "version": "3.8.12"
  },
  "orig_nbformat": 4,
  "vscode": {
   "interpreter": {
    "hash": "6865d64d40ad906f82fb20f8ddc63cfb2bc56b96fd171d41d5c1d48838529718"
   }
  }
 },
 "nbformat": 4,
 "nbformat_minor": 2
}
