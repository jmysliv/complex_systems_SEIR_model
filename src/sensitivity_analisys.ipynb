{
 "cells": [
  {
   "cell_type": "code",
   "execution_count": 1,
   "metadata": {},
   "outputs": [],
   "source": [
    "from sensitivity_analisys import sa"
   ]
  },
  {
   "cell_type": "code",
   "execution_count": 6,
   "metadata": {},
   "outputs": [
    {
     "name": "stdout",
     "output_type": "stream",
     "text": [
      "(1408, 9)\n"
     ]
    }
   ],
   "source": [
    "\n",
    "Si = sa(128)\n",
    "df = Si.to_df()"
   ]
  },
  {
   "cell_type": "code",
   "execution_count": 4,
   "metadata": {},
   "outputs": [
    {
     "data": {
      "text/plain": [
       "[                   ST       ST_conf\n",
       " beta1    1.114065e-01  1.045099e-01\n",
       " beta2    1.108205e+00  1.164161e+00\n",
       " beta3    8.802524e-05  3.880100e-03\n",
       " gamma    8.770234e-01  8.717284e-01\n",
       " mi       1.073297e+00  1.894632e+00\n",
       " lambda   9.588007e-03  1.007332e-02\n",
       " epsilon  1.667922e+00  7.300748e+01\n",
       " alpha    4.379069e-01  3.624602e-01\n",
       " delta    1.447023e-08  1.507494e-08,\n",
       "                S1   S1_conf\n",
       " beta1    0.064996  0.112900\n",
       " beta2   -0.200712  0.220739\n",
       " beta3   -0.001355  0.059704\n",
       " gamma    0.199766  0.192452\n",
       " mi       0.259033  0.683957\n",
       " lambda   0.018716  0.019414\n",
       " epsilon -0.195975  8.277075\n",
       " alpha    0.142302  0.465183\n",
       " delta   -0.000023  0.000022]"
      ]
     },
     "execution_count": 4,
     "metadata": {},
     "output_type": "execute_result"
    }
   ],
   "source": [
    "df"
   ]
  },
  {
   "cell_type": "code",
   "execution_count": 10,
   "metadata": {},
   "outputs": [],
   "source": [
    "st = df[0]"
   ]
  },
  {
   "cell_type": "code",
   "execution_count": 11,
   "metadata": {},
   "outputs": [
    {
     "data": {
      "text/html": [
       "<div>\n",
       "<style scoped>\n",
       "    .dataframe tbody tr th:only-of-type {\n",
       "        vertical-align: middle;\n",
       "    }\n",
       "\n",
       "    .dataframe tbody tr th {\n",
       "        vertical-align: top;\n",
       "    }\n",
       "\n",
       "    .dataframe thead th {\n",
       "        text-align: right;\n",
       "    }\n",
       "</style>\n",
       "<table border=\"1\" class=\"dataframe\">\n",
       "  <thead>\n",
       "    <tr style=\"text-align: right;\">\n",
       "      <th></th>\n",
       "      <th>ST</th>\n",
       "      <th>ST_conf</th>\n",
       "    </tr>\n",
       "  </thead>\n",
       "  <tbody>\n",
       "    <tr>\n",
       "      <th>beta1</th>\n",
       "      <td>4.733381e+00</td>\n",
       "      <td>1.724257e+01</td>\n",
       "    </tr>\n",
       "    <tr>\n",
       "      <th>beta2</th>\n",
       "      <td>2.263779e-01</td>\n",
       "      <td>8.246405e-01</td>\n",
       "    </tr>\n",
       "    <tr>\n",
       "      <th>beta3</th>\n",
       "      <td>1.927173e+15</td>\n",
       "      <td>9.194956e+31</td>\n",
       "    </tr>\n",
       "    <tr>\n",
       "      <th>gamma</th>\n",
       "      <td>5.348624e+15</td>\n",
       "      <td>4.723349e+25</td>\n",
       "    </tr>\n",
       "    <tr>\n",
       "      <th>mi</th>\n",
       "      <td>1.486112e+14</td>\n",
       "      <td>1.115075e+31</td>\n",
       "    </tr>\n",
       "    <tr>\n",
       "      <th>lambda</th>\n",
       "      <td>2.263882e-01</td>\n",
       "      <td>8.246780e-01</td>\n",
       "    </tr>\n",
       "    <tr>\n",
       "      <th>epsilon</th>\n",
       "      <td>9.911096e+05</td>\n",
       "      <td>3.610374e+06</td>\n",
       "    </tr>\n",
       "    <tr>\n",
       "      <th>alpha</th>\n",
       "      <td>2.263882e-01</td>\n",
       "      <td>8.246780e-01</td>\n",
       "    </tr>\n",
       "    <tr>\n",
       "      <th>delta</th>\n",
       "      <td>5.856336e-10</td>\n",
       "      <td>2.133323e-09</td>\n",
       "    </tr>\n",
       "  </tbody>\n",
       "</table>\n",
       "</div>"
      ],
      "text/plain": [
       "                   ST       ST_conf\n",
       "beta1    4.733381e+00  1.724257e+01\n",
       "beta2    2.263779e-01  8.246405e-01\n",
       "beta3    1.927173e+15  9.194956e+31\n",
       "gamma    5.348624e+15  4.723349e+25\n",
       "mi       1.486112e+14  1.115075e+31\n",
       "lambda   2.263882e-01  8.246780e-01\n",
       "epsilon  9.911096e+05  3.610374e+06\n",
       "alpha    2.263882e-01  8.246780e-01\n",
       "delta    5.856336e-10  2.133323e-09"
      ]
     },
     "execution_count": 11,
     "metadata": {},
     "output_type": "execute_result"
    }
   ],
   "source": [
    "st"
   ]
  },
  {
   "cell_type": "code",
   "execution_count": null,
   "metadata": {},
   "outputs": [],
   "source": [
    "st.sort_values(by=[\"ST\"])"
   ]
  }
 ],
 "metadata": {
  "kernelspec": {
   "display_name": "Python 3.8.12 ('venv': venv)",
   "language": "python",
   "name": "python3"
  },
  "language_info": {
   "codemirror_mode": {
    "name": "ipython",
    "version": 3
   },
   "file_extension": ".py",
   "mimetype": "text/x-python",
   "name": "python",
   "nbconvert_exporter": "python",
   "pygments_lexer": "ipython3",
   "version": "3.8.12"
  },
  "orig_nbformat": 4,
  "vscode": {
   "interpreter": {
    "hash": "6865d64d40ad906f82fb20f8ddc63cfb2bc56b96fd171d41d5c1d48838529718"
   }
  }
 },
 "nbformat": 4,
 "nbformat_minor": 2
}
