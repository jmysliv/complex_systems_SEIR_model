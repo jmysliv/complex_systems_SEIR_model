{
 "cells": [
  {
   "cell_type": "code",
   "execution_count": 1,
   "metadata": {},
   "outputs": [],
   "source": [
    "from sensitivity_analisys import sa"
   ]
  },
  {
   "cell_type": "code",
   "execution_count": 20,
   "metadata": {},
   "outputs": [
    {
     "name": "stdout",
     "output_type": "stream",
     "text": [
      "[[0.0, 1.0], [0.0, 1.0], [0.0, 1.0], [0.0, 1.0], [0.0, 1.0], [0.0, 1.0], [0.0, 1.0], [0.0, 1.0], [0.0, 1.0]]\n"
     ]
    },
    {
     "name": "stderr",
     "output_type": "stream",
     "text": [
      "/home/wojtek/isz/complex_systems_SEIR_model/venv/lib/python3.8/site-packages/scipy/integrate/_odepack_py.py:247: ODEintWarning: Excess work done on this call (perhaps wrong Dfun type). Run with full_output = 1 to get quantitative information.\n",
      "  warnings.warn(warning_msg, ODEintWarning)\n"
     ]
    }
   ],
   "source": [
    "\n",
    "Si = sa(16384)\n",
    "df = Si.to_df()"
   ]
  },
  {
   "cell_type": "code",
   "execution_count": 21,
   "metadata": {},
   "outputs": [
    {
     "data": {
      "text/plain": [
       "[                   ST       ST_conf\n",
       " beta1    2.444609e+05  2.311078e+05\n",
       " beta2    9.806508e-01  3.748638e+02\n",
       " beta3    1.000480e+00  5.505860e-01\n",
       " gamma    2.610652e+20  8.727866e+31\n",
       " mi       1.000480e+00  5.505859e-01\n",
       " lambda   1.460382e+11  5.948520e+22\n",
       " epsilon  2.083424e+03  1.969657e+03\n",
       " alpha    1.000480e+00  5.505860e-01\n",
       " delta    6.149471e-15  8.137055e-12,\n",
       "                    S1       S1_conf\n",
       " beta1   -1.431598e+09  2.188301e+09\n",
       " beta2    2.256735e+06  5.667171e+09\n",
       " beta3    2.920838e+06  2.570317e+08\n",
       " gamma   -4.719524e+16  1.591750e+28\n",
       " mi       2.920838e+06  2.570312e+08\n",
       " lambda  -1.106257e+12  4.506076e+23\n",
       " epsilon -1.321077e+08  1.660402e+12\n",
       " alpha    2.920838e+06  2.570317e+08\n",
       " delta    2.935573e-01  8.338777e+02]"
      ]
     },
     "execution_count": 21,
     "metadata": {},
     "output_type": "execute_result"
    }
   ],
   "source": [
    "df"
   ]
  },
  {
   "cell_type": "code",
   "execution_count": 25,
   "metadata": {},
   "outputs": [],
   "source": [
    "st = df[0]"
   ]
  },
  {
   "cell_type": "code",
   "execution_count": 26,
   "metadata": {},
   "outputs": [
    {
     "data": {
      "text/html": [
       "<div>\n",
       "<style scoped>\n",
       "    .dataframe tbody tr th:only-of-type {\n",
       "        vertical-align: middle;\n",
       "    }\n",
       "\n",
       "    .dataframe tbody tr th {\n",
       "        vertical-align: top;\n",
       "    }\n",
       "\n",
       "    .dataframe thead th {\n",
       "        text-align: right;\n",
       "    }\n",
       "</style>\n",
       "<table border=\"1\" class=\"dataframe\">\n",
       "  <thead>\n",
       "    <tr style=\"text-align: right;\">\n",
       "      <th></th>\n",
       "      <th>ST</th>\n",
       "      <th>ST_conf</th>\n",
       "    </tr>\n",
       "  </thead>\n",
       "  <tbody>\n",
       "    <tr>\n",
       "      <th>beta1</th>\n",
       "      <td>2.444609e+05</td>\n",
       "      <td>2.311078e+05</td>\n",
       "    </tr>\n",
       "    <tr>\n",
       "      <th>beta2</th>\n",
       "      <td>9.806508e-01</td>\n",
       "      <td>3.748638e+02</td>\n",
       "    </tr>\n",
       "    <tr>\n",
       "      <th>beta3</th>\n",
       "      <td>1.000480e+00</td>\n",
       "      <td>5.505860e-01</td>\n",
       "    </tr>\n",
       "    <tr>\n",
       "      <th>gamma</th>\n",
       "      <td>2.610652e+20</td>\n",
       "      <td>8.727866e+31</td>\n",
       "    </tr>\n",
       "    <tr>\n",
       "      <th>mi</th>\n",
       "      <td>1.000480e+00</td>\n",
       "      <td>5.505859e-01</td>\n",
       "    </tr>\n",
       "    <tr>\n",
       "      <th>lambda</th>\n",
       "      <td>1.460382e+11</td>\n",
       "      <td>5.948520e+22</td>\n",
       "    </tr>\n",
       "    <tr>\n",
       "      <th>epsilon</th>\n",
       "      <td>2.083424e+03</td>\n",
       "      <td>1.969657e+03</td>\n",
       "    </tr>\n",
       "    <tr>\n",
       "      <th>alpha</th>\n",
       "      <td>1.000480e+00</td>\n",
       "      <td>5.505860e-01</td>\n",
       "    </tr>\n",
       "    <tr>\n",
       "      <th>delta</th>\n",
       "      <td>6.149471e-15</td>\n",
       "      <td>8.137055e-12</td>\n",
       "    </tr>\n",
       "  </tbody>\n",
       "</table>\n",
       "</div>"
      ],
      "text/plain": [
       "                   ST       ST_conf\n",
       "beta1    2.444609e+05  2.311078e+05\n",
       "beta2    9.806508e-01  3.748638e+02\n",
       "beta3    1.000480e+00  5.505860e-01\n",
       "gamma    2.610652e+20  8.727866e+31\n",
       "mi       1.000480e+00  5.505859e-01\n",
       "lambda   1.460382e+11  5.948520e+22\n",
       "epsilon  2.083424e+03  1.969657e+03\n",
       "alpha    1.000480e+00  5.505860e-01\n",
       "delta    6.149471e-15  8.137055e-12"
      ]
     },
     "execution_count": 26,
     "metadata": {},
     "output_type": "execute_result"
    }
   ],
   "source": [
    "st"
   ]
  },
  {
   "cell_type": "code",
   "execution_count": 27,
   "metadata": {},
   "outputs": [
    {
     "data": {
      "text/html": [
       "<div>\n",
       "<style scoped>\n",
       "    .dataframe tbody tr th:only-of-type {\n",
       "        vertical-align: middle;\n",
       "    }\n",
       "\n",
       "    .dataframe tbody tr th {\n",
       "        vertical-align: top;\n",
       "    }\n",
       "\n",
       "    .dataframe thead th {\n",
       "        text-align: right;\n",
       "    }\n",
       "</style>\n",
       "<table border=\"1\" class=\"dataframe\">\n",
       "  <thead>\n",
       "    <tr style=\"text-align: right;\">\n",
       "      <th></th>\n",
       "      <th>ST</th>\n",
       "      <th>ST_conf</th>\n",
       "    </tr>\n",
       "  </thead>\n",
       "  <tbody>\n",
       "    <tr>\n",
       "      <th>gamma</th>\n",
       "      <td>2.610652e+20</td>\n",
       "      <td>8.727866e+31</td>\n",
       "    </tr>\n",
       "    <tr>\n",
       "      <th>lambda</th>\n",
       "      <td>1.460382e+11</td>\n",
       "      <td>5.948520e+22</td>\n",
       "    </tr>\n",
       "    <tr>\n",
       "      <th>beta1</th>\n",
       "      <td>2.444609e+05</td>\n",
       "      <td>2.311078e+05</td>\n",
       "    </tr>\n",
       "    <tr>\n",
       "      <th>epsilon</th>\n",
       "      <td>2.083424e+03</td>\n",
       "      <td>1.969657e+03</td>\n",
       "    </tr>\n",
       "    <tr>\n",
       "      <th>beta3</th>\n",
       "      <td>1.000480e+00</td>\n",
       "      <td>5.505860e-01</td>\n",
       "    </tr>\n",
       "    <tr>\n",
       "      <th>alpha</th>\n",
       "      <td>1.000480e+00</td>\n",
       "      <td>5.505860e-01</td>\n",
       "    </tr>\n",
       "    <tr>\n",
       "      <th>mi</th>\n",
       "      <td>1.000480e+00</td>\n",
       "      <td>5.505859e-01</td>\n",
       "    </tr>\n",
       "    <tr>\n",
       "      <th>beta2</th>\n",
       "      <td>9.806508e-01</td>\n",
       "      <td>3.748638e+02</td>\n",
       "    </tr>\n",
       "    <tr>\n",
       "      <th>delta</th>\n",
       "      <td>6.149471e-15</td>\n",
       "      <td>8.137055e-12</td>\n",
       "    </tr>\n",
       "  </tbody>\n",
       "</table>\n",
       "</div>"
      ],
      "text/plain": [
       "                   ST       ST_conf\n",
       "gamma    2.610652e+20  8.727866e+31\n",
       "lambda   1.460382e+11  5.948520e+22\n",
       "beta1    2.444609e+05  2.311078e+05\n",
       "epsilon  2.083424e+03  1.969657e+03\n",
       "beta3    1.000480e+00  5.505860e-01\n",
       "alpha    1.000480e+00  5.505860e-01\n",
       "mi       1.000480e+00  5.505859e-01\n",
       "beta2    9.806508e-01  3.748638e+02\n",
       "delta    6.149471e-15  8.137055e-12"
      ]
     },
     "execution_count": 27,
     "metadata": {},
     "output_type": "execute_result"
    }
   ],
   "source": [
    "st.sort_values(by=[\"ST\"], ascending=False)"
   ]
  },
  {
   "cell_type": "code",
   "execution_count": null,
   "metadata": {},
   "outputs": [],
   "source": []
  }
 ],
 "metadata": {
  "kernelspec": {
   "display_name": "Python 3.8.12 ('venv': venv)",
   "language": "python",
   "name": "python3"
  },
  "language_info": {
   "codemirror_mode": {
    "name": "ipython",
    "version": 3
   },
   "file_extension": ".py",
   "mimetype": "text/x-python",
   "name": "python",
   "nbconvert_exporter": "python",
   "pygments_lexer": "ipython3",
   "version": "3.8.12"
  },
  "orig_nbformat": 4,
  "vscode": {
   "interpreter": {
    "hash": "6865d64d40ad906f82fb20f8ddc63cfb2bc56b96fd171d41d5c1d48838529718"
   }
  }
 },
 "nbformat": 4,
 "nbformat_minor": 2
}
